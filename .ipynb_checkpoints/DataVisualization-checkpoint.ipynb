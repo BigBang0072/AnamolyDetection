{
 "cells": [
  {
   "cell_type": "code",
   "execution_count": 16,
   "metadata": {
    "collapsed": true
   },
   "outputs": [],
   "source": [
    "import pandas as pd\n",
    "import matplotlib.pyplot as plt\n",
    "import numpy as np\n",
    "\n",
    "%matplotlib inline"
   ]
  },
  {
   "cell_type": "markdown",
   "metadata": {},
   "source": [
    "# Reading the Transfers csv to Dataframe"
   ]
  },
  {
   "cell_type": "markdown",
   "metadata": {},
   "source": [
    "## source : 192.170.227.160 "
   ]
  },
  {
   "cell_type": "markdown",
   "metadata": {},
   "source": [
    "# Splitting the Transfer based on location"
   ]
  },
  {
   "cell_type": "code",
   "execution_count": 8,
   "metadata": {
    "collapsed": true
   },
   "outputs": [],
   "source": [
    "def load_data():\n",
    "    df =  pd.read_csv('PacketLoss_192.170.227.160.csv')\n",
    "    dests=df['dest'].unique()\n",
    "    dfs={}\n",
    "    for d in dests:\n",
    "        dfs[d] = df[df[\"dest\"] == d].copy()\n",
    "        dfs[d] = dfs[d][[\"timestamp\",\"packet_loss\"]]\n",
    "        dfs[d].columns=[\"timestamp\",d]\n",
    "        dfs[d].index=dfs[d].timestamp\n",
    "        del dfs[d][\"timestamp\"]\n",
    "        dfs[d] = dfs[d].transpose()\n",
    "        dups = dfs[d].columns.get_duplicates()\n",
    "        if len(dups)>0:\n",
    "            print(d)\n",
    "            print(dups)\n",
    "            print(dfs[d].columns)\n",
    "            return\n",
    "    cdf = pd.concat(dfs.values())\n",
    "    cdf.to_csv('transformed.csv')\n",
    "    return cdf"
   ]
  },
  {
   "cell_type": "markdown",
   "metadata": {},
   "source": [
    "### Removing the NAN values and keeping the data to the point we have packet loss for all the links"
   ]
  },
  {
   "cell_type": "code",
   "execution_count": 13,
   "metadata": {},
   "outputs": [],
   "source": [
    "cdf=load_data()\n",
    "cdf=cdf.iloc[:-6]"
   ]
  },
  {
   "cell_type": "code",
   "execution_count": 14,
   "metadata": {},
   "outputs": [
    {
     "data": {
      "text/html": [
       "<div>\n",
       "<style>\n",
       "    .dataframe thead tr:only-child th {\n",
       "        text-align: right;\n",
       "    }\n",
       "\n",
       "    .dataframe thead th {\n",
       "        text-align: left;\n",
       "    }\n",
       "\n",
       "    .dataframe tbody tr th {\n",
       "        vertical-align: top;\n",
       "    }\n",
       "</style>\n",
       "<table border=\"1\" class=\"dataframe\">\n",
       "  <thead>\n",
       "    <tr style=\"text-align: right;\">\n",
       "      <th>timestamp</th>\n",
       "      <th>1483232400</th>\n",
       "      <th>1483232700</th>\n",
       "      <th>1483233000</th>\n",
       "      <th>1483233300</th>\n",
       "      <th>1483233600</th>\n",
       "      <th>1483233900</th>\n",
       "      <th>1483234200</th>\n",
       "      <th>1483234500</th>\n",
       "      <th>1483234800</th>\n",
       "      <th>1483235100</th>\n",
       "      <th>...</th>\n",
       "      <th>1491001800</th>\n",
       "      <th>1491002100</th>\n",
       "      <th>1491002400</th>\n",
       "      <th>1491002700</th>\n",
       "      <th>1491003000</th>\n",
       "      <th>1491003300</th>\n",
       "      <th>1491003600</th>\n",
       "      <th>1491003900</th>\n",
       "      <th>1491004200</th>\n",
       "      <th>1491004500</th>\n",
       "    </tr>\n",
       "  </thead>\n",
       "  <tbody>\n",
       "    <tr>\n",
       "      <th>145.100.17.8</th>\n",
       "      <td>0.0</td>\n",
       "      <td>0.0</td>\n",
       "      <td>0.0</td>\n",
       "      <td>0.000667</td>\n",
       "      <td>0.0</td>\n",
       "      <td>0.000000</td>\n",
       "      <td>0.0</td>\n",
       "      <td>0.0</td>\n",
       "      <td>0.000000</td>\n",
       "      <td>0.0</td>\n",
       "      <td>...</td>\n",
       "      <td>0.0</td>\n",
       "      <td>0.000000</td>\n",
       "      <td>0.000333</td>\n",
       "      <td>0.000333</td>\n",
       "      <td>0.000000</td>\n",
       "      <td>0.0</td>\n",
       "      <td>0.000333</td>\n",
       "      <td>0.000333</td>\n",
       "      <td>0.000333</td>\n",
       "      <td>0.000333</td>\n",
       "    </tr>\n",
       "    <tr>\n",
       "      <th>192.5.207.251</th>\n",
       "      <td>0.0</td>\n",
       "      <td>0.0</td>\n",
       "      <td>0.0</td>\n",
       "      <td>0.000000</td>\n",
       "      <td>0.0</td>\n",
       "      <td>0.000000</td>\n",
       "      <td>0.0</td>\n",
       "      <td>0.0</td>\n",
       "      <td>0.000000</td>\n",
       "      <td>0.0</td>\n",
       "      <td>...</td>\n",
       "      <td>0.0</td>\n",
       "      <td>0.000667</td>\n",
       "      <td>0.000667</td>\n",
       "      <td>0.000667</td>\n",
       "      <td>0.000000</td>\n",
       "      <td>0.0</td>\n",
       "      <td>0.000667</td>\n",
       "      <td>0.000333</td>\n",
       "      <td>0.000333</td>\n",
       "      <td>0.000000</td>\n",
       "    </tr>\n",
       "    <tr>\n",
       "      <th>129.93.5.165</th>\n",
       "      <td>0.0</td>\n",
       "      <td>0.0</td>\n",
       "      <td>0.0</td>\n",
       "      <td>0.000000</td>\n",
       "      <td>0.0</td>\n",
       "      <td>0.000000</td>\n",
       "      <td>0.0</td>\n",
       "      <td>0.0</td>\n",
       "      <td>0.000000</td>\n",
       "      <td>0.0</td>\n",
       "      <td>...</td>\n",
       "      <td>0.0</td>\n",
       "      <td>0.000000</td>\n",
       "      <td>0.000000</td>\n",
       "      <td>0.001000</td>\n",
       "      <td>0.000333</td>\n",
       "      <td>0.0</td>\n",
       "      <td>0.000000</td>\n",
       "      <td>0.000000</td>\n",
       "      <td>0.001000</td>\n",
       "      <td>0.000000</td>\n",
       "    </tr>\n",
       "    <tr>\n",
       "      <th>192.170.230.51</th>\n",
       "      <td>0.0</td>\n",
       "      <td>0.0</td>\n",
       "      <td>0.0</td>\n",
       "      <td>0.000000</td>\n",
       "      <td>0.0</td>\n",
       "      <td>0.000000</td>\n",
       "      <td>0.0</td>\n",
       "      <td>0.0</td>\n",
       "      <td>0.000000</td>\n",
       "      <td>0.0</td>\n",
       "      <td>...</td>\n",
       "      <td>NaN</td>\n",
       "      <td>NaN</td>\n",
       "      <td>NaN</td>\n",
       "      <td>NaN</td>\n",
       "      <td>NaN</td>\n",
       "      <td>NaN</td>\n",
       "      <td>NaN</td>\n",
       "      <td>NaN</td>\n",
       "      <td>NaN</td>\n",
       "      <td>NaN</td>\n",
       "    </tr>\n",
       "    <tr>\n",
       "      <th>131.154.254.12</th>\n",
       "      <td>0.0</td>\n",
       "      <td>0.0</td>\n",
       "      <td>0.0</td>\n",
       "      <td>0.000000</td>\n",
       "      <td>0.0</td>\n",
       "      <td>0.000333</td>\n",
       "      <td>0.0</td>\n",
       "      <td>0.0</td>\n",
       "      <td>0.000333</td>\n",
       "      <td>0.0</td>\n",
       "      <td>...</td>\n",
       "      <td>NaN</td>\n",
       "      <td>NaN</td>\n",
       "      <td>NaN</td>\n",
       "      <td>NaN</td>\n",
       "      <td>NaN</td>\n",
       "      <td>NaN</td>\n",
       "      <td>NaN</td>\n",
       "      <td>NaN</td>\n",
       "      <td>NaN</td>\n",
       "      <td>NaN</td>\n",
       "    </tr>\n",
       "  </tbody>\n",
       "</table>\n",
       "<p>5 rows × 25760 columns</p>\n",
       "</div>"
      ],
      "text/plain": [
       "timestamp       1483232400  1483232700  1483233000  1483233300  1483233600  \\\n",
       "145.100.17.8           0.0         0.0         0.0    0.000667         0.0   \n",
       "192.5.207.251          0.0         0.0         0.0    0.000000         0.0   \n",
       "129.93.5.165           0.0         0.0         0.0    0.000000         0.0   \n",
       "192.170.230.51         0.0         0.0         0.0    0.000000         0.0   \n",
       "131.154.254.12         0.0         0.0         0.0    0.000000         0.0   \n",
       "\n",
       "timestamp       1483233900  1483234200  1483234500  1483234800  1483235100  \\\n",
       "145.100.17.8      0.000000         0.0         0.0    0.000000         0.0   \n",
       "192.5.207.251     0.000000         0.0         0.0    0.000000         0.0   \n",
       "129.93.5.165      0.000000         0.0         0.0    0.000000         0.0   \n",
       "192.170.230.51    0.000000         0.0         0.0    0.000000         0.0   \n",
       "131.154.254.12    0.000333         0.0         0.0    0.000333         0.0   \n",
       "\n",
       "timestamp          ...      1491001800  1491002100  1491002400  1491002700  \\\n",
       "145.100.17.8       ...             0.0    0.000000    0.000333    0.000333   \n",
       "192.5.207.251      ...             0.0    0.000667    0.000667    0.000667   \n",
       "129.93.5.165       ...             0.0    0.000000    0.000000    0.001000   \n",
       "192.170.230.51     ...             NaN         NaN         NaN         NaN   \n",
       "131.154.254.12     ...             NaN         NaN         NaN         NaN   \n",
       "\n",
       "timestamp       1491003000  1491003300  1491003600  1491003900  1491004200  \\\n",
       "145.100.17.8      0.000000         0.0    0.000333    0.000333    0.000333   \n",
       "192.5.207.251     0.000000         0.0    0.000667    0.000333    0.000333   \n",
       "129.93.5.165      0.000333         0.0    0.000000    0.000000    0.001000   \n",
       "192.170.230.51         NaN         NaN         NaN         NaN         NaN   \n",
       "131.154.254.12         NaN         NaN         NaN         NaN         NaN   \n",
       "\n",
       "timestamp       1491004500  \n",
       "145.100.17.8      0.000333  \n",
       "192.5.207.251     0.000000  \n",
       "129.93.5.165      0.000000  \n",
       "192.170.230.51         NaN  \n",
       "131.154.254.12         NaN  \n",
       "\n",
       "[5 rows x 25760 columns]"
      ]
     },
     "execution_count": 14,
     "metadata": {},
     "output_type": "execute_result"
    }
   ],
   "source": [
    "cdf.tail()"
   ]
  },
  {
   "cell_type": "code",
   "execution_count": 17,
   "metadata": {},
   "outputs": [
    {
     "data": {
      "text/plain": [
       "<matplotlib.axes._subplots.AxesSubplot at 0x7fe89bad6e10>"
      ]
     },
     "execution_count": 17,
     "metadata": {},
     "output_type": "execute_result"
    },
    {
     "data": {
      "image/png": "[encoded data removed]",
      "text/plain": [
       "<matplotlib.figure.Figure at 0x7fe89b68cbe0>"
      ]
     },
     "metadata": {},
     "output_type": "display_data"
    }
   ],
   "source": [
    "cdf.iloc[0].plot()"
   ]
  },
  {
   "cell_type": "code",
   "execution_count": null,
   "metadata": {
    "collapsed": true
   },
   "outputs": [],
   "source": []
  }
 ],
 "metadata": {
  "kernelspec": {
   "display_name": "Python 3",
   "language": "python",
   "name": "python3"
  },
  "language_info": {
   "codemirror_mode": {
    "name": "ipython",
    "version": 3
   },
   "file_extension": ".py",
   "mimetype": "text/x-python",
   "name": "python",
   "nbconvert_exporter": "python",
   "pygments_lexer": "ipython3",
   "version": "3.6.2"
  }
 },
 "nbformat": 4,
 "nbformat_minor": 2
}
