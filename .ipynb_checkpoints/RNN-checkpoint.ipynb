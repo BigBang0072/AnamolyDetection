{
 "cells": [
  {
   "cell_type": "code",
   "execution_count": 1,
   "metadata": {},
   "outputs": [
    {
     "name": "stderr",
     "output_type": "stream",
     "text": [
      "Using TensorFlow backend.\n"
     ]
    }
   ],
   "source": [
    "import tensorflow as tf\n",
    "from keras.layers import Input,Dense,Activation\n",
    "from keras.layers import Dropout,BatchNormalization\n",
    "from keras.layers import Concatenate\n",
    "from keras.models import Model\n",
    "\n",
    "import keras.backend as K"
   ]
  },
  {
   "cell_type": "markdown",
   "metadata": {},
   "source": [
    "# Defining the Model for Simple-RNN"
   ]
  },
  {
   "cell_type": "markdown",
   "metadata": {},
   "source": [
    "### Transformation for one time step"
   ]
  },
  {
   "cell_type": "code",
   "execution_count": 3,
   "metadata": {
    "collapsed": true
   },
   "outputs": [],
   "source": [
    "def simpleRNN_oneStep(input_shape,X_t,ht_prev,step_no):\n",
    "    '''Arguments:\n",
    "        input_shape: for this time step ie. (None,ToBeDecided)\n",
    "        ht_prev    : the hidden layer output from the previous time-step\n",
    "        step_no    : (for naming purpose) The current time-step number\n",
    "    '''\n",
    "    #Tunable(AK)\n",
    "    #the internal normal feed forward dimension to create representation for next time step\n",
    "    hidden_layer_dims=None#To be decided\n",
    "    output_layer_dim=None#To be decided\n",
    "    rnn_initializer='glorot_uniform'\n",
    "    \n",
    "    #Making a place holder for current layer input\n",
    "    X=Concatenate()([X_t,ht_prev]) #Concatenating it to the previous time-step memory\n",
    "    \n",
    "    #Implementing the current layers\n",
    "    for i,dim in enumerate(hidden_layer_dims):\n",
    "        X=Dense(dim,activation='relu',kernel_initializer=rnn_initializer,name='time'+str(step_no)+'hidden_'+i)(X)\n",
    "        X=BatchNormalization(axis=-1)(X)\n",
    "    \n",
    "    #Final Layer that will go to next time step.(Currently just passing one layer activation to next step)\n",
    "    #activation used is 'relu' cuz the packet loss or other metric later will be positive\n",
    "    X=Dense(output_layer_dim,activation='relu',name='time'+str(step_no)+'passing')(X)\n",
    "    \n",
    "    return X"
   ]
  },
  {
   "cell_type": "markdown",
   "metadata": {},
   "source": [
    "### Recursing for the final Model"
   ]
  },
  {
   "cell_type": "code",
   "execution_count": 5,
   "metadata": {
    "collapsed": true
   },
   "outputs": [],
   "source": [
    "def get_simpleRNN_model(input_shape,h_initial,time_steps):\n",
    "    '''Arguments:\n",
    "        input_shape: same as above.\n",
    "        h_initial  : initial pre-contition i.e the starting state of the system\n",
    "        time_steps : total time-steps in the recurrent sequence before thhe final output.\n",
    "        \n",
    "        This RNN is of type many-to-one architecture where the\n",
    "        the input is taken at each time step-discretization of PerfSonar\n",
    "        but output is generated after certain discrete RNN step(in paper they took\n",
    "        referrent period of 24 hour time-step.)\n",
    "    '''\n",
    "    X_inputs=[]\n",
    "    for i in range(time_steps):\n",
    "        X_t=Input(input_shape)\n",
    "        X_inputs.append(X_t)\n",
    "    \n",
    "    #Traversing through the timestep to create the recurrent effect\n",
    "    for t,X_t in enumerate(X_inputs):\n",
    "        if(t==0):\n",
    "            X=simpleRNN_oneStep(input_shape,X_t,h_initial,t)\n",
    "        else:\n",
    "            X=simpleRNN_oneStep(input_shape,X_t,X,t)\n",
    "            \n",
    "    #This final time-step's NN's output is our prediction of the network parameters based on\n",
    "    #previous \"Referrent Time's  input\"\n",
    "    \n",
    "    model=Model(inputs=X_inputs,outputs=X,name='RNN-V0')\n",
    "    \n",
    "    return model"
   ]
  },
  {
   "cell_type": "code",
   "execution_count": null,
   "metadata": {
    "collapsed": true
   },
   "outputs": [],
   "source": []
  }
 ],
 "metadata": {
  "kernelspec": {
   "display_name": "Python 3",
   "language": "python",
   "name": "python3"
  },
  "language_info": {
   "codemirror_mode": {
    "name": "ipython",
    "version": 3
   },
   "file_extension": ".py",
   "mimetype": "text/x-python",
   "name": "python",
   "nbconvert_exporter": "python",
   "pygments_lexer": "ipython3",
   "version": "3.6.2"
  }
 },
 "nbformat": 4,
 "nbformat_minor": 2
}
