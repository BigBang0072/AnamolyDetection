{
 "cells": [
  {
   "cell_type": "code",
   "execution_count": 7,
   "metadata": {},
   "outputs": [],
   "source": [
    "import numpy as np\n",
    "import tensorflow as tf\n",
    "\n",
    "from keras.layers import Input,Dense,Activation\n",
    "from keras.layers import Dropout,BatchNormalization\n",
    "from keras.layers import Concatenate\n",
    "from keras.models import Model\n",
    "\n",
    "import keras.backend as K"
   ]
  },
  {
   "cell_type": "markdown",
   "metadata": {},
   "source": [
    "# Defining the Model for Simple-RNN"
   ]
  },
  {
   "cell_type": "markdown",
   "metadata": {},
   "source": [
    "### Transformation for one time step"
   ]
  },
  {
   "cell_type": "code",
   "execution_count": 8,
   "metadata": {
    "collapsed": true
   },
   "outputs": [],
   "source": [
    "def simpleRNN_oneStep(input_shape,X_t,ht_prev,step_no):\n",
    "    '''Arguments:\n",
    "        input_shape: for this time step ie. (None,ToBeDecided)\n",
    "        ht_prev    : the hidden layer output from the previous time-step\n",
    "        step_no    : (for naming purpose) The current time-step number\n",
    "    '''\n",
    "    #Tunable(AK)\n",
    "    #the internal normal feed forward dimension to create representation for next time step\n",
    "    hidden_layer_dims=[1,]#To be decided\n",
    "    output_layer_dim=1#To be decided\n",
    "    rnn_initializer='glorot_uniform'\n",
    "    \n",
    "    #Making a place holder for current layer input\n",
    "    X=Concatenate()([X_t,ht_prev]) #Concatenating it to the previous time-step memory\n",
    "    \n",
    "    #Implementing the current layers\n",
    "    for i,dim in enumerate(hidden_layer_dims):\n",
    "        X=Dense(dim,activation='relu',kernel_initializer=rnn_initializer,name='time'+str(step_no)+'hidden_'+str(i))(X)\n",
    "        X=BatchNormalization(axis=-1)(X)\n",
    "    \n",
    "    #Final Layer that will go to next time step.(Currently just passing one layer activation to next step)\n",
    "    #activation used is 'relu' cuz the packet loss or other metric later will be positive\n",
    "    X=Dense(output_layer_dim,activation='relu',name='time'+str(step_no)+'passing')(X)\n",
    "    \n",
    "    return X"
   ]
  },
  {
   "cell_type": "markdown",
   "metadata": {},
   "source": [
    "### Recursing for the final Model"
   ]
  },
  {
   "cell_type": "code",
   "execution_count": 9,
   "metadata": {
    "collapsed": true
   },
   "outputs": [],
   "source": [
    "def get_simpleRNN_model(input_shape,time_steps):\n",
    "    '''Arguments:\n",
    "        input_shape: same as above.\n",
    "        h_initial  : initial pre-contition i.e the starting state of the system\n",
    "        time_steps : total time-steps in the recurrent sequence before thhe final output.\n",
    "        \n",
    "        This RNN is of type many-to-one architecture where the\n",
    "        the input is taken at each time step-discretization of PerfSonar\n",
    "        but output is generated after certain discrete RNN step(in paper they took\n",
    "        referrent period of 24 hour time-step.)\n",
    "    '''\n",
    "    X_inputs=[]\n",
    "    h_initial=Input(shape=(1,),dtype=tf.float32,name='initial_input')\n",
    "    X_inputs.append(h_initial)\n",
    "    for i in range(time_steps):\n",
    "        X_t=Input(input_shape,dtype='float32',name='Input_time'+str(i+1))\n",
    "        X_inputs.append(X_t)\n",
    "    \n",
    "    #Traversing through the timestep to create the recurrent effect\n",
    "    for t,X_t in enumerate(X_inputs):\n",
    "        if(t==1):\n",
    "            X=simpleRNN_oneStep(input_shape,X_t,X_inputs[0],t)\n",
    "        elif(t>1):\n",
    "            X=simpleRNN_oneStep(input_shape,X_t,X,t)\n",
    "            \n",
    "    #This final time-step's NN's output is our prediction of the network parameters based on\n",
    "    #previous \"Referrent Time's  input\"\n",
    "    \n",
    "    model=Model(inputs=X_inputs,outputs=X,name='RNN-V0')\n",
    "    \n",
    "    return model"
   ]
  },
  {
   "cell_type": "markdown",
   "metadata": {
    "collapsed": true
   },
   "source": [
    "# Testing the RNN"
   ]
  },
  {
   "cell_type": "markdown",
   "metadata": {},
   "source": [
    "### Creating sample dataset"
   ]
  },
  {
   "cell_type": "code",
   "execution_count": 14,
   "metadata": {},
   "outputs": [],
   "source": [
    "X=[]\n",
    "Y=np.empty((1000,1))\n",
    "time_step=100\n",
    "for i in range(time_step+1):\n",
    "    if(i==0):\n",
    "        h_initial=np.zeros((1000,1))\n",
    "        X.append(h_initial)\n",
    "    else:\n",
    "        xt_temp=np.zeros((1000,1))\n",
    "        for j in range(1000):\n",
    "            xt_temp[j,0]=100*j+(i-1)\n",
    "        X.append(xt_temp)\n",
    "for i in range(1000):\n",
    "    Y[i,0]=100*(i+1)\n",
    "    \n",
    "    \n",
    "#print(X[2][:,0])\n",
    "#X_train="
   ]
  },
  {
   "cell_type": "markdown",
   "metadata": {},
   "source": [
    "### Compiling the Model"
   ]
  },
  {
   "cell_type": "code",
   "execution_count": 12,
   "metadata": {},
   "outputs": [],
   "source": [
    "input_shape=(1,)\n",
    "model=get_simpleRNN_model(input_shape,time_steps=100)\n",
    "model.compile(optimizer='adam',loss='mse',metrics=['accuracy'])"
   ]
  },
  {
   "cell_type": "markdown",
   "metadata": {},
   "source": [
    "### Running the Training on Sample Test Set"
   ]
  },
  {
   "cell_type": "code",
   "execution_count": 13,
   "metadata": {},
   "outputs": [
    {
     "name": "stdout",
     "output_type": "stream",
     "text": [
      "Epoch 1/6\n",
      "1000/1000 [==============================] - 10s 10ms/step - loss: 3338335360.0000 - acc: 0.0000e+00\n",
      "Epoch 2/6\n",
      "1000/1000 [==============================] - 0s 115us/step - loss: 3338335104.0000 - acc: 0.0000e+00\n",
      "Epoch 3/6\n",
      "1000/1000 [==============================] - 0s 142us/step - loss: 3338335360.0000 - acc: 0.0000e+00\n",
      "Epoch 4/6\n",
      "1000/1000 [==============================] - 0s 113us/step - loss: 3338335360.0000 - acc: 0.0000e+00\n",
      "Epoch 5/6\n",
      "1000/1000 [==============================] - 0s 130us/step - loss: 3338334848.0000 - acc: 0.0000e+00\n",
      "Epoch 6/6\n",
      "1000/1000 [==============================] - 0s 112us/step - loss: 3338334848.0000 - acc: 0.0000e+00\n"
     ]
    },
    {
     "data": {
      "text/plain": [
       "<keras.callbacks.History at 0x7f1c99731978>"
      ]
     },
     "execution_count": 13,
     "metadata": {},
     "output_type": "execute_result"
    }
   ],
   "source": [
    "model.fit(X,Y,epochs=10000,batch_size=1000) #dont keep the name as X and Y (kahe confuse kar rahe ho)"
   ]
  },
  {
   "cell_type": "code",
   "execution_count": null,
   "metadata": {
    "collapsed": true
   },
   "outputs": [],
   "source": []
  }
 ],
 "metadata": {
  "kernelspec": {
   "display_name": "Python 3",
   "language": "python",
   "name": "python3"
  },
  "language_info": {
   "codemirror_mode": {
    "name": "ipython",
    "version": 3
   },
   "file_extension": ".py",
   "mimetype": "text/x-python",
   "name": "python",
   "nbconvert_exporter": "python",
   "pygments_lexer": "ipython3",
   "version": "3.6.3"
  }
 },
 "nbformat": 4,
 "nbformat_minor": 2
}
